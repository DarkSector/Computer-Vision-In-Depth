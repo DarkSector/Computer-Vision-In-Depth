{
 "cells": [
  {
   "cell_type": "markdown",
   "id": "6d8b0ef2-9bb2-4b52-80c8-9920cba07e1e",
   "metadata": {},
   "source": [
    "# Smoothening & Blurring\n",
    "\n",
    "This notebook goes deeper into how we can use OpenCV's operations and providing them different kernel sizes"
   ]
  },
  {
   "cell_type": "code",
   "execution_count": null,
   "id": "e8ea329a-9424-4283-ab5c-f005df5a1c21",
   "metadata": {},
   "outputs": [],
   "source": [
    "import ipywidgets as widgets\n",
    "from ipywidgets import interact\n",
    "import numpy as np\n",
    "import matplotlib.pyplot as plt\n",
    "import cv2"
   ]
  },
  {
   "cell_type": "markdown",
   "id": "ec26ea02-e5a8-4a7f-9609-e868f0e1a0b5",
   "metadata": {},
   "source": [
    "## Simple Blur"
   ]
  },
  {
   "cell_type": "code",
   "execution_count": 18,
   "id": "707d36a5-0327-4545-8fae-726a4cf7cea6",
   "metadata": {},
   "outputs": [
    {
     "data": {
      "application/vnd.jupyter.widget-view+json": {
       "model_id": "a142be2ef67544b994932bc17cbb6442",
       "version_major": 2,
       "version_minor": 0
      },
      "text/plain": [
       "interactive(children=(IntSlider(value=3, description='Kernel Size', max=20, min=1), Output()), _dom_classes=('…"
      ]
     },
     "metadata": {},
     "output_type": "display_data"
    },
    {
     "data": {
      "text/plain": [
       "<function __main__.update_image(kernel_size)>"
      ]
     },
     "execution_count": 18,
     "metadata": {},
     "output_type": "execute_result"
    }
   ],
   "source": [
    "# Define a function to perform the recalculation and update the displayed image\n",
    "def update_image(kernel_size):\n",
    "    # Perform the recalculation based on the kernel size\n",
    "    # For example, you can perform erosion with the updated kernel size\n",
    "    image = cv2.imread('images/lenna.png')  # Read the input image\n",
    "    result = cv2.blur(image, (kernel_size, kernel_size))  # Perform erosion with the updated kernel size\n",
    "\n",
    "    # Display the resulting image\n",
    "    plt.imshow(cv2.cvtColor(result, cv2.COLOR_BGR2RGB))\n",
    "    plt.title(f'Blurred Image with Kernel Size {kernel_size}, {kernel_size}')\n",
    "    \n",
    "    plt.show()\n",
    "\n",
    "# Create a slider for the kernel size\n",
    "kernel_slider = widgets.IntSlider(value=3, min=1, max=20, description='Kernel Size')\n",
    "\n",
    "# Call the update_image function whenever the slider value changes\n",
    "interact(update_image, kernel_size=kernel_slider)"
   ]
  },
  {
   "cell_type": "markdown",
   "id": "cb6ccd85-3d7b-485f-88b3-155f71634987",
   "metadata": {},
   "source": [
    "## Gaussian Blur"
   ]
  },
  {
   "cell_type": "code",
   "execution_count": 25,
   "id": "30139c7c-efab-46a4-8cb8-1ed8ffa0ae21",
   "metadata": {},
   "outputs": [
    {
     "data": {
      "application/vnd.jupyter.widget-view+json": {
       "model_id": "4f8735bd263f4f6aa775107ea086f62f",
       "version_major": 2,
       "version_minor": 0
      },
      "text/plain": [
       "interactive(children=(IntSlider(value=3, description='Kernel Size', max=20, min=1, step=2), Output()), _dom_cl…"
      ]
     },
     "metadata": {},
     "output_type": "display_data"
    },
    {
     "data": {
      "text/plain": [
       "<function __main__.update_image(kernel_size)>"
      ]
     },
     "execution_count": 25,
     "metadata": {},
     "output_type": "execute_result"
    }
   ],
   "source": [
    "# Define a function to perform the recalculation and update the displayed image\n",
    "def update_image(kernel_size):\n",
    "    # Perform the recalculation based on the kernel size\n",
    "    # For example, you can perform erosion with the updated kernel size\n",
    "    image = cv2.imread('images/lenna.png')  # Read the input image\n",
    "    result = cv2.GaussianBlur(image, (kernel_size, kernel_size), 0)  # Perform erosion with the updated kernel size\n",
    "\n",
    "    # Display the resulting image\n",
    "    plt.imshow(cv2.cvtColor(result, cv2.COLOR_BGR2RGB))\n",
    "    plt.title(f'Gaussian Blurred Image with Kernel Size {kernel_size}, {kernel_size}')\n",
    "    \n",
    "    plt.show()\n",
    "\n",
    "# Create a slider for the kernel size\n",
    "kernel_slider = widgets.IntSlider(value=3, step=2, min=1, max=20, description='Kernel Size')\n",
    "\n",
    "# Call the update_image function whenever the slider value changes\n",
    "interact(update_image, kernel_size=kernel_slider)"
   ]
  },
  {
   "cell_type": "markdown",
   "id": "d5fcdfd3-80b3-4092-90f0-f2ea61760d2c",
   "metadata": {},
   "source": [
    "## Median Blur"
   ]
  },
  {
   "cell_type": "code",
   "execution_count": 26,
   "id": "dec25ea0-885d-41ad-a9a8-543885b7d66d",
   "metadata": {},
   "outputs": [
    {
     "data": {
      "application/vnd.jupyter.widget-view+json": {
       "model_id": "124758ebb22b45758170ae64947c296d",
       "version_major": 2,
       "version_minor": 0
      },
      "text/plain": [
       "interactive(children=(IntSlider(value=3, description='Kernel Size', max=20, min=1, step=2), Output()), _dom_cl…"
      ]
     },
     "metadata": {},
     "output_type": "display_data"
    },
    {
     "data": {
      "text/plain": [
       "<function __main__.update_image(kernel_size)>"
      ]
     },
     "execution_count": 26,
     "metadata": {},
     "output_type": "execute_result"
    }
   ],
   "source": [
    "# Define a function to perform the recalculation and update the displayed image\n",
    "def update_image(kernel_size):\n",
    "    # Perform the recalculation based on the kernel size\n",
    "    # For example, you can perform erosion with the updated kernel size\n",
    "    image = cv2.imread('images/lenna.png')  # Read the input image\n",
    "    result = cv2.medianBlur(image, kernel_size)  # Perform erosion with the updated kernel size\n",
    "\n",
    "    # Display the resulting image\n",
    "    plt.imshow(cv2.cvtColor(result, cv2.COLOR_BGR2RGB))\n",
    "    plt.title(f'Median Blurred Image with Kernel Size {kernel_size}, {kernel_size}')    \n",
    "    plt.show()\n",
    "\n",
    "# Create a slider for the kernel size\n",
    "kernel_slider = widgets.IntSlider(value=3, step=2, min=1, max=20, description='Kernel Size')\n",
    "\n",
    "# Call the update_image function whenever the slider value changes\n",
    "interact(update_image, kernel_size=kernel_slider)"
   ]
  },
  {
   "cell_type": "code",
   "execution_count": null,
   "id": "781761f8-8c70-45f2-8f55-8b90ac58bab0",
   "metadata": {},
   "outputs": [],
   "source": []
  }
 ],
 "metadata": {
  "kernelspec": {
   "display_name": "Python 3 (ipykernel)",
   "language": "python",
   "name": "python3"
  },
  "language_info": {
   "codemirror_mode": {
    "name": "ipython",
    "version": 3
   },
   "file_extension": ".py",
   "mimetype": "text/x-python",
   "name": "python",
   "nbconvert_exporter": "python",
   "pygments_lexer": "ipython3",
   "version": "3.8.9"
  }
 },
 "nbformat": 4,
 "nbformat_minor": 5
}
