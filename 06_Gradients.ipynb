{
 "cells": [
  {
   "cell_type": "markdown",
   "id": "0e916a36-a78d-4708-ace4-f001bdc59d15",
   "metadata": {},
   "source": [
    "# Gradients\n",
    "Formally, an image gradient is defined as a directional change in image intensity."
   ]
  },
  {
   "cell_type": "code",
   "execution_count": 4,
   "id": "7734834f-06ad-4b13-a5a4-b86ad1fe7e13",
   "metadata": {},
   "outputs": [
    {
     "data": {
      "text/html": [
       "<img alt=\"Numpy Axis\" src=\"images/numpy-axis.png\" width=\"50%\">"
      ],
      "text/plain": [
       "<IPython.core.display.HTML object>"
      ]
     },
     "execution_count": 4,
     "metadata": {},
     "output_type": "execute_result"
    }
   ],
   "source": [
    "from IPython.display import HTML\n",
    "HTML('<img alt=\"Numpy Axis\" src=\"images/numpy-axis.png\" width=\"50%\">')"
   ]
  },
  {
   "cell_type": "markdown",
   "id": "ebbee750-2af6-416f-b453-f70e3531e9fc",
   "metadata": {},
   "source": [
    "In the numpy space, axis 0 or y goes top to bottom, so row-0 is technicall row-1 -1 and row-2 is row-1 +1"
   ]
  },
  {
   "cell_type": "code",
   "execution_count": null,
   "id": "a5f8160f-deff-48d5-8ba4-e0e7f109a8a0",
   "metadata": {},
   "outputs": [],
   "source": []
  }
 ],
 "metadata": {
  "kernelspec": {
   "display_name": "Python 3 (ipykernel)",
   "language": "python",
   "name": "python3"
  },
  "language_info": {
   "codemirror_mode": {
    "name": "ipython",
    "version": 3
   },
   "file_extension": ".py",
   "mimetype": "text/x-python",
   "name": "python",
   "nbconvert_exporter": "python",
   "pygments_lexer": "ipython3",
   "version": "3.8.9"
  }
 },
 "nbformat": 4,
 "nbformat_minor": 5
}
